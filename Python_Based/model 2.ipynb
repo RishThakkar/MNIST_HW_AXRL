{
 "cells": [
  {
   "cell_type": "code",
   "execution_count": 1,
   "id": "ae9f783d",
   "metadata": {},
   "outputs": [],
   "source": [
    "import numpy as np\n",
    "from keras.datasets import mnist\n",
    "from keras.models import Sequential \n",
    "import tensorflow as tf\n",
    "from tensorflow.keras.models import load_model\n",
    "from tensorflow.keras import Model\n",
    "from keras.layers import Conv2D, MaxPooling2D, Flatten, Dense, Dropout\n",
    "from keras.utils import to_categorical\n",
    "from skimage.transform import resize\n",
    "import h5py\n",
    "import os\n"
   ]
  },
  {
   "cell_type": "code",
   "execution_count": 2,
   "id": "c655504b",
   "metadata": {},
   "outputs": [],
   "source": [
    "# Load MNIST dataset\n",
    "(x_train, y_train), (x_test, y_test) = mnist.load_data()\n",
    "\n",
    "# Resize images to 42x42\n",
    "x_train_resized = np.zeros((x_train.shape[0], 42, 42))\n",
    "for i in range(x_train.shape[0]):\n",
    "    x_train_resized[i] = resize(x_train[i], (42, 42))\n",
    "\n",
    "x_test_resized = np.zeros((x_test.shape[0], 42, 42))\n",
    "for i in range(x_test.shape[0]):\n",
    "    x_test_resized[i] = resize(x_test[i], (42, 42))\n",
    "\n",
    "# Reshape to add channel dimension (required for Keras)\n",
    "x_train_resized = x_train_resized.reshape(-1, 42, 42, 1)\n",
    "x_test_resized = x_test_resized.reshape(-1, 42, 42, 1)\n",
    "\n",
    "# Normalize pixel values to range [0, 1]\n",
    "x_train_resized = x_train_resized.astype('float32') / 255.0\n",
    "x_test_resized = x_test_resized.astype('float32') / 255.0\n",
    "\n",
    "# One-hot encode labels\n",
    "y_train = to_categorical(y_train)\n",
    "y_test = to_categorical(y_test)\n"
   ]
  },
  {
   "cell_type": "code",
   "execution_count": 3,
   "id": "22512bac",
   "metadata": {},
   "outputs": [],
   "source": [
    "# import numpy as np\n",
    "# from keras.models import Sequential\n",
    "# from keras.layers import Conv2D, MaxPooling2D, Flatten, Dropout, Dense\n",
    "# from keras.callbacks import ModelCheckpoint\n",
    "\n",
    "# model = Sequential()\n",
    "# model.add(Conv2D(4, kernel_size=(3, 3), activation='relu', input_shape=(42, 42, 1)))\n",
    "# model.add(MaxPooling2D(pool_size=(2, 2)))\n",
    "# model.add(Conv2D(4, kernel_size=(3, 3), activation='relu'))\n",
    "# model.add(MaxPooling2D(pool_size=(2, 2)))\n",
    "# model.add(Flatten())\n",
    "# model.add(Dropout(0.5))\n",
    "# model.add(Dense(10, activation='softmax'))\n",
    "\n",
    "# # Compile the model\n",
    "# model.compile(loss='categorical_crossentropy', optimizer='adam', metrics=['accuracy'])\n",
    "\n",
    "# # Train the model (Replace X_train and y_train with your training data)\n",
    "# model.fit(x_train_resized, y_train, batch_size=50, epochs=15, validation_data=(x_test_resized, y_test))\n",
    "\n",
    "# # Save the model's weights and biases\n",
    "# model.save('model_weights.h5')\n"
   ]
  },
  {
   "cell_type": "code",
   "execution_count": 4,
   "id": "e82956f2",
   "metadata": {},
   "outputs": [],
   "source": [
    "# from keras.models import load_model\n",
    "\n",
    "# # Load the model from the .h5 file\n",
    "# model = load_model('model_weights.h5')\n",
    "\n",
    "# # Get the weights for each layer\n",
    "# weights = model.get_weights()\n",
    "\n",
    "# # Save the weights to a text file\n",
    "# with open('model_weights.txt', 'w') as file:\n",
    "#     for layer_weights in weights:\n",
    "#         for weight in layer_weights.flatten():\n",
    "#             file.write(str(weight) + '\\n')\n",
    "\n",
    "# print(\"Model weights saved to model_weights.txt\")"
   ]
  },
  {
   "cell_type": "code",
   "execution_count": 5,
   "id": "2aced222",
   "metadata": {},
   "outputs": [],
   "source": [
    "# model.summary()"
   ]
  },
  {
   "cell_type": "code",
   "execution_count": 6,
   "id": "ee72011c",
   "metadata": {},
   "outputs": [
    {
     "name": "stderr",
     "output_type": "stream",
     "text": [
      "WARNING:absl:Compiled the loaded model, but the compiled metrics have yet to be built. `model.compile_metrics` will be empty until you train or evaluate the model.\n"
     ]
    },
    {
     "name": "stdout",
     "output_type": "stream",
     "text": [
      "\u001b[1m313/313\u001b[0m \u001b[32m━━━━━━━━━━━━━━━━━━━━\u001b[0m\u001b[37m\u001b[0m \u001b[1m1s\u001b[0m 917us/step - accuracy: 0.9181 - loss: 0.2984\n",
      "Test Loss: 0.2572062909603119\n",
      "Test Accuracy: 0.9316999912261963\n"
     ]
    }
   ],
   "source": [
    "import numpy as np\n",
    "from keras.models import Sequential, load_model\n",
    "from keras.layers import Conv2D, MaxPooling2D, Flatten, Dropout, Dense\n",
    "from keras.callbacks import ModelCheckpoint\n",
    "\n",
    "\n",
    "model = load_model('model_weights.h5')\n",
    "\n",
    "# Evaluate the model on the test set\n",
    "loss, accuracy = model.evaluate(x_test_resized, y_test)\n",
    "print(\"Test Loss:\", loss)\n",
    "print(\"Test Accuracy:\", accuracy)"
   ]
  },
  {
   "cell_type": "code",
   "execution_count": 7,
   "id": "d8b90702",
   "metadata": {},
   "outputs": [
    {
     "name": "stdout",
     "output_type": "stream",
     "text": [
      "\u001b[1m1/1\u001b[0m \u001b[32m━━━━━━━━━━━━━━━━━━━━\u001b[0m\u001b[37m\u001b[0m \u001b[1m0s\u001b[0m 45ms/step\n",
      "Predicted class probabilities: [[0. 0. 0. 1. 0. 0. 0. 0. 0. 0.]]\n",
      "Predicted class label: 3\n"
     ]
    }
   ],
   "source": [
    "from keras.preprocessing import image\n",
    "import numpy as np\n",
    "\n",
    "# Load and preprocess the single image\n",
    "img_path = 'demo7.png'  \n",
    "img = image.load_img(img_path, target_size=(42, 42), color_mode='grayscale')  \n",
    "img_array = image.img_to_array(img)\n",
    "img_array = np.expand_dims(img_array, axis=0)\n",
    "# img_array /= 255.  # Normalize the pixel values\n",
    "\n",
    "# Predict the output of the model for the single image\n",
    "predictions = model.predict(img_array)\n",
    "\n",
    "# Print the predicted class probabilities\n",
    "print(\"Predicted class probabilities:\", predictions)\n",
    "\n",
    "# Get the predicted class label\n",
    "predicted_class = np.argmax(predictions)\n",
    "print(\"Predicted class label:\", predicted_class)"
   ]
  },
  {
   "cell_type": "markdown",
   "id": "671ee045",
   "metadata": {},
   "source": [
    "# Conv1"
   ]
  },
  {
   "cell_type": "code",
   "execution_count": 8,
   "id": "ca4f15c2",
   "metadata": {},
   "outputs": [
    {
     "name": "stdout",
     "output_type": "stream",
     "text": [
      "\u001b[1m1/1\u001b[0m \u001b[32m━━━━━━━━━━━━━━━━━━━━\u001b[0m\u001b[37m\u001b[0m \u001b[1m0s\u001b[0m 29ms/step\n",
      "Output shape of the first convolutional layer: (1, 40, 40, 4)\n",
      "Convolutional layer output saved\n"
     ]
    },
    {
     "name": "stderr",
     "output_type": "stream",
     "text": [
      "c:\\Users\\Rishit Thakkar\\AppData\\Local\\Programs\\Python\\Python312\\Lib\\site-packages\\keras\\src\\layers\\convolutional\\base_conv.py:99: UserWarning: Do not pass an `input_shape`/`input_dim` argument to a layer. When using Sequential models, prefer using an `Input(shape)` object as the first layer in the model instead.\n",
      "  super().__init__(\n"
     ]
    }
   ],
   "source": [
    "weights_and_biases = np.loadtxt(\"model_weights.txt\")\n",
    "\n",
    "weights_shape = (3, 3, 1, 4)  # Assuming kernel size of (3, 3) and 4 filters\n",
    "\n",
    "weights = weights_and_biases[0:36].reshape(weights_shape)  # weights\n",
    "biases = weights_and_biases[36:40]  # biases\n",
    "\n",
    "\n",
    "#Model Below\n",
    "model = Sequential()\n",
    "model.add(Conv2D(4, kernel_size=(3, 3), activation='relu', input_shape=(42, 42, 1)))\n",
    "\n",
    "model.layers[0].set_weights([weights, biases])\n",
    "\n",
    "\n",
    "\n",
    "img_path = 'demo7.png'  \n",
    "img = image.load_img(img_path, target_size=(42, 42), color_mode='grayscale')  \n",
    "img_array = image.img_to_array(img)\n",
    "img_array = np.expand_dims(img_array, axis=0)\n",
    "# img_array /= 255.  \n",
    "img_flat = img_array.flatten()\n",
    "img_array = np.array(img_flat)\n",
    "\n",
    "\n",
    "img_array = img_flat.reshape((1, 42, 42, 1))  # Reshape to (batch_size, height, width, channels)\n",
    "\n",
    "conv1_output = model.predict(img_array)\n",
    "\n",
    "print(\"Output shape of the first convolutional layer:\", conv1_output.shape)\n",
    "\n",
    "# Save the convolutional layer output\n",
    "with open('Python_prog_out_conv.txt', 'w') as file:\n",
    "    for c in range(conv1_output.shape[3]):  \n",
    "        file.write(\"Channel %d:\\n\" % (c + 1))\n",
    "\n",
    "        for i in range(conv1_output.shape[1]):  \n",
    "            for j in range(conv1_output.shape[2]):  \n",
    "                file.write(\"%0.2f\" % conv1_output[0, i, j, c])\n",
    "                if j != conv1_output.shape[2] - 1:\n",
    "                    file.write(\", \")\n",
    "            file.write(\"\\n\")\n",
    "\n",
    "        file.write(\"\\n\")\n",
    "\n",
    "print(\"Convolutional layer output saved\")"
   ]
  },
  {
   "cell_type": "markdown",
   "id": "d907c86f",
   "metadata": {},
   "source": [
    "# Max1"
   ]
  },
  {
   "cell_type": "code",
   "execution_count": 9,
   "id": "76ec5767",
   "metadata": {},
   "outputs": [
    {
     "name": "stdout",
     "output_type": "stream",
     "text": [
      "\u001b[1m1/1\u001b[0m \u001b[32m━━━━━━━━━━━━━━━━━━━━\u001b[0m\u001b[37m\u001b[0m \u001b[1m0s\u001b[0m 27ms/step\n",
      "Output shape of the first Max Pool layer: (1, 20, 20, 4)\n",
      "Max 1 layer output saved\n"
     ]
    }
   ],
   "source": [
    "weights_and_biases = np.loadtxt(\"model_weights.txt\")\n",
    "\n",
    "weights_shape = (3, 3, 1, 4)  # Assuming kernel size of (3, 3) and 4 filters\n",
    "\n",
    "weights = weights_and_biases[0:36].reshape(weights_shape)  # weights\n",
    "biases = weights_and_biases[36:40]  # biases\n",
    "\n",
    "\n",
    "#Model Below\n",
    "model = Sequential()\n",
    "model.add(Conv2D(4, kernel_size=(3, 3), activation='relu', input_shape=(42, 42, 1)))\n",
    "model.add(MaxPooling2D(pool_size=(2, 2)))\n",
    "\n",
    "model.layers[0].set_weights([weights, biases])\n",
    "\n",
    "\n",
    "\n",
    "img_path = 'demo7.png'  \n",
    "img = image.load_img(img_path, target_size=(42, 42), color_mode='grayscale')  \n",
    "img_array = image.img_to_array(img)\n",
    "img_array = np.expand_dims(img_array, axis=0)\n",
    "# img_array /= 255.  \n",
    "img_flat = img_array.flatten()\n",
    "img_array = np.array(img_flat)\n",
    "\n",
    "\n",
    "img_array = img_flat.reshape((1, 42, 42, 1))  # Reshape to (batch_size, height, width, channels)\n",
    "\n",
    "conv1_output = model.predict(img_array)\n",
    "\n",
    "print(\"Output shape of the first Max Pool layer:\", conv1_output.shape)\n",
    "\n",
    "# Save the convolutional layer output\n",
    "with open('Python_prog_out_Max1.txt', 'w') as file:\n",
    "    for c in range(conv1_output.shape[3]):  \n",
    "        file.write(\"Channel %d:\\n\" % (c + 1))\n",
    "\n",
    "        for i in range(conv1_output.shape[1]):  \n",
    "            for j in range(conv1_output.shape[2]):  \n",
    "                file.write(\"%0.2f\" % conv1_output[0, i, j, c])\n",
    "                if j != conv1_output.shape[2] - 1:\n",
    "                    file.write(\", \")\n",
    "            file.write(\"\\n\")\n",
    "\n",
    "        file.write(\"\\n\")\n",
    "\n",
    "print(\"Max 1 layer output saved\")"
   ]
  },
  {
   "cell_type": "markdown",
   "id": "bdefbaf1",
   "metadata": {},
   "source": [
    "# Conv 2"
   ]
  },
  {
   "cell_type": "code",
   "execution_count": 10,
   "id": "0fde0b66",
   "metadata": {},
   "outputs": [
    {
     "name": "stdout",
     "output_type": "stream",
     "text": [
      "\u001b[1m1/1\u001b[0m \u001b[32m━━━━━━━━━━━━━━━━━━━━\u001b[0m\u001b[37m\u001b[0m \u001b[1m0s\u001b[0m 34ms/step\n",
      "Output shape of the first convolutional layer: (1, 18, 18, 4)\n",
      "Convolutional layer output saved\n"
     ]
    }
   ],
   "source": [
    "weights_and_biases = np.loadtxt(\"model_weights.txt\")\n",
    "\n",
    "weights_shape = (3, 3, 1, 4)  # Assuming kernel size of (3, 3) and 4 filters\n",
    "weights2_shape = (3, 3, 4, 4)\n",
    "\n",
    "weights = weights_and_biases[0:36].reshape(weights_shape)  # weights\n",
    "biases = weights_and_biases[36:40]  # biases\n",
    "\n",
    "weights2 = weights_and_biases[40:184].reshape(weights2_shape)\n",
    "biases2 = weights_and_biases[184:188]\n",
    "\n",
    "#Model Below\n",
    "model = Sequential()\n",
    "model.add(Conv2D(4, kernel_size=(3, 3), activation='relu', input_shape=(42, 42, 1)))\n",
    "model.add(MaxPooling2D(pool_size=(2, 2)))\n",
    "model.add(Conv2D(4, kernel_size=(3, 3), activation='relu'))\n",
    "\n",
    "model.layers[0].set_weights([weights, biases])\n",
    "model.layers[2].set_weights([weights2, biases2])\n",
    "\n",
    "\n",
    "\n",
    "img_path = 'demo7.png'  \n",
    "img = image.load_img(img_path, target_size=(42, 42), color_mode='grayscale')  \n",
    "img_array = image.img_to_array(img)\n",
    "img_array = np.expand_dims(img_array, axis=0)\n",
    "# img_array /= 255.  \n",
    "img_flat = img_array.flatten()\n",
    "img_array = np.array(img_flat)\n",
    "\n",
    "\n",
    "img_array = img_flat.reshape((1, 42, 42, 1))  # Reshape to (batch_size, height, width, channels)\n",
    "\n",
    "conv1_output = model.predict(img_array)\n",
    "\n",
    "print(\"Output shape of the first convolutional layer:\", conv1_output.shape)\n",
    "\n",
    "# Save the convolutional layer output\n",
    "with open('Python_prog_out_conv2.txt', 'w') as file:\n",
    "    for c in range(conv1_output.shape[3]):  \n",
    "        file.write(\"Channel %d:\\n\" % (c + 1))\n",
    "\n",
    "        for i in range(conv1_output.shape[1]):  \n",
    "            for j in range(conv1_output.shape[2]):  \n",
    "                file.write(\"%0.2f\" % conv1_output[0, i, j, c])\n",
    "                if j != conv1_output.shape[2] - 1:\n",
    "                    file.write(\", \")\n",
    "            file.write(\"\\n\")\n",
    "\n",
    "        file.write(\"\\n\")\n",
    "\n",
    "print(\"Convolutional layer output saved\")"
   ]
  },
  {
   "cell_type": "markdown",
   "id": "8acb6353",
   "metadata": {},
   "source": [
    "# Max 2"
   ]
  },
  {
   "cell_type": "code",
   "execution_count": 11,
   "id": "9931121e",
   "metadata": {},
   "outputs": [
    {
     "name": "stdout",
     "output_type": "stream",
     "text": [
      "WARNING:tensorflow:5 out of the last 5 calls to <function TensorFlowTrainer.make_predict_function.<locals>.one_step_on_data_distributed at 0x000002BEE7EA5440> triggered tf.function retracing. Tracing is expensive and the excessive number of tracings could be due to (1) creating @tf.function repeatedly in a loop, (2) passing tensors with different shapes, (3) passing Python objects instead of tensors. For (1), please define your @tf.function outside of the loop. For (2), @tf.function has reduce_retracing=True option that can avoid unnecessary retracing. For (3), please refer to https://www.tensorflow.org/guide/function#controlling_retracing and https://www.tensorflow.org/api_docs/python/tf/function for  more details.\n"
     ]
    },
    {
     "name": "stderr",
     "output_type": "stream",
     "text": [
      "WARNING:tensorflow:5 out of the last 5 calls to <function TensorFlowTrainer.make_predict_function.<locals>.one_step_on_data_distributed at 0x000002BEE7EA5440> triggered tf.function retracing. Tracing is expensive and the excessive number of tracings could be due to (1) creating @tf.function repeatedly in a loop, (2) passing tensors with different shapes, (3) passing Python objects instead of tensors. For (1), please define your @tf.function outside of the loop. For (2), @tf.function has reduce_retracing=True option that can avoid unnecessary retracing. For (3), please refer to https://www.tensorflow.org/guide/function#controlling_retracing and https://www.tensorflow.org/api_docs/python/tf/function for  more details.\n"
     ]
    },
    {
     "name": "stdout",
     "output_type": "stream",
     "text": [
      "\u001b[1m1/1\u001b[0m \u001b[32m━━━━━━━━━━━━━━━━━━━━\u001b[0m\u001b[37m\u001b[0m \u001b[1m0s\u001b[0m 37ms/step\n",
      "Output shape of the first convolutional layer: (1, 9, 9, 4)\n",
      "Maxpool layer 2 output saved\n"
     ]
    }
   ],
   "source": [
    "weights_and_biases = np.loadtxt(\"model_weights.txt\")\n",
    "\n",
    "weights_shape = (3, 3, 1, 4)  # Assuming kernel size of (3, 3) and 4 filters\n",
    "weights2_shape = (3, 3, 4, 4)\n",
    "\n",
    "weights = weights_and_biases[0:36].reshape(weights_shape)  # weights\n",
    "biases = weights_and_biases[36:40]  # biases\n",
    "\n",
    "weights2 = weights_and_biases[40:184].reshape(weights2_shape)\n",
    "biases2 = weights_and_biases[184:188]\n",
    "\n",
    "#Model Below\n",
    "model = Sequential()\n",
    "model.add(Conv2D(4, kernel_size=(3, 3), activation='relu', input_shape=(42, 42, 1)))\n",
    "model.add(MaxPooling2D(pool_size=(2, 2)))\n",
    "model.add(Conv2D(4, kernel_size=(3, 3), activation='relu'))\n",
    "model.add(MaxPooling2D(pool_size = (2, 2)))\n",
    "\n",
    "model.layers[0].set_weights([weights, biases])\n",
    "model.layers[2].set_weights([weights2, biases2])\n",
    "\n",
    "\n",
    "\n",
    "img_path = 'demo7.png'  \n",
    "img = image.load_img(img_path, target_size=(42, 42), color_mode='grayscale')  \n",
    "img_array = image.img_to_array(img)\n",
    "img_array = np.expand_dims(img_array, axis=0)\n",
    "# img_array /= 255.  \n",
    "img_flat = img_array.flatten()\n",
    "img_array = np.array(img_flat)\n",
    "\n",
    "\n",
    "img_array = img_flat.reshape((1, 42, 42, 1))  # Reshape to (batch_size, height, width, channels)\n",
    "\n",
    "conv1_output = model.predict(img_array)\n",
    "\n",
    "print(\"Output shape of the first convolutional layer:\", conv1_output.shape)\n",
    "\n",
    "# Save the convolutional layer output\n",
    "with open('Python_prog_out_max2.txt', 'w') as file:\n",
    "    for c in range(conv1_output.shape[3]):  \n",
    "        file.write(\"Channel %d:\\n\" % (c + 1))\n",
    "\n",
    "        for i in range(conv1_output.shape[1]):  \n",
    "            for j in range(conv1_output.shape[2]):  \n",
    "                file.write(\"%0.2f\" % conv1_output[0, i, j, c])\n",
    "                if j != conv1_output.shape[2] - 1:\n",
    "                    file.write(\", \")\n",
    "            file.write(\"\\n\")\n",
    "\n",
    "        file.write(\"\\n\")\n",
    "\n",
    "print(\"Maxpool layer 2 output saved\")"
   ]
  },
  {
   "cell_type": "markdown",
   "id": "59abb0ad",
   "metadata": {},
   "source": [
    "# Flatten and Dense"
   ]
  },
  {
   "cell_type": "code",
   "execution_count": 13,
   "id": "d2f8aaf0",
   "metadata": {},
   "outputs": [
    {
     "name": "stdout",
     "output_type": "stream",
     "text": [
      "\u001b[1m1/1\u001b[0m \u001b[32m━━━━━━━━━━━━━━━━━━━━\u001b[0m\u001b[37m\u001b[0m \u001b[1m0s\u001b[0m 47ms/step\n",
      "Output shape of the Dense layer: (1, 10)\n",
      "Output shape of the Dense layer: (1, 10)\n",
      "Dense layer output saved\n"
     ]
    }
   ],
   "source": [
    "weights_and_biases = np.loadtxt(\"model_weights.txt\")\n",
    "\n",
    "weights_shape = (3, 3, 1, 4)  # Assuming kernel size of (3, 3) and 4 filters\n",
    "weights2_shape = (3, 3, 4, 4)\n",
    "weights3_shape = (324, 10)\n",
    "\n",
    "weights = weights_and_biases[0:36].reshape(weights_shape)  # weights\n",
    "biases = weights_and_biases[36:40]  # biases\n",
    "\n",
    "weights2 = weights_and_biases[40:184].reshape(weights2_shape)\n",
    "biases2 = weights_and_biases[184:188]\n",
    "\n",
    "weights3 = weights_and_biases[188:3428].reshape(weights3_shape)\n",
    "biases3 = weights_and_biases[3428:3438]\n",
    "\n",
    "#Model Below\n",
    "model = Sequential()\n",
    "model.add(Conv2D(4, kernel_size=(3, 3), activation='relu', input_shape=(42, 42, 1)))\n",
    "model.add(MaxPooling2D(pool_size=(2, 2)))\n",
    "model.add(Conv2D(4, kernel_size=(3, 3), activation='relu'))\n",
    "model.add(MaxPooling2D(pool_size = (2, 2)))\n",
    "model.add(Flatten())\n",
    "model.add(Dropout(0.5))\n",
    "model.add(Dense(10, activation='relu'))\n",
    "\n",
    "model.layers[0].set_weights([weights, biases])\n",
    "model.layers[2].set_weights([weights2, biases2])\n",
    "model.layers[6].set_weights([weights3, biases3])\n",
    "\n",
    "\n",
    "img_path = 'demo7.png'  \n",
    "img = image.load_img(img_path, target_size=(42, 42), color_mode='grayscale')  \n",
    "img_array = image.img_to_array(img)\n",
    "img_array = np.expand_dims(img_array, axis=0)\n",
    "# img_array /= 255.  \n",
    "img_flat = img_array.flatten()\n",
    "img_array = np.array(img_flat)\n",
    "\n",
    "\n",
    "img_array = img_flat.reshape((1, 42, 42, 1))  # Reshape to (batch_size, height, width, channels)\n",
    "\n",
    "conv1_output = model.predict(img_array)\n",
    "\n",
    "print(\"Output shape of the Dense layer:\", conv1_output.shape)\n",
    "\n",
    "# Save the convolutional layer output\n",
    "print(\"Output shape of the Dense layer:\", conv1_output.shape)\n",
    "\n",
    "# Save the dense layer output\n",
    "with open('Python_prog_out_Dense.txt', 'w') as file:\n",
    "    for i in range(conv1_output.shape[1]):\n",
    "        file.write(\"Neuron %d: %0.2f\\n\" % (i + 1, conv1_output[0, i]))\n",
    "\n",
    "print(\"Dense layer output saved\")\n"
   ]
  }
 ],
 "metadata": {
  "kernelspec": {
   "display_name": "Python 3 (ipykernel)",
   "language": "python",
   "name": "python3"
  },
  "language_info": {
   "codemirror_mode": {
    "name": "ipython",
    "version": 3
   },
   "file_extension": ".py",
   "mimetype": "text/x-python",
   "name": "python",
   "nbconvert_exporter": "python",
   "pygments_lexer": "ipython3",
   "version": "3.12.2"
  }
 },
 "nbformat": 4,
 "nbformat_minor": 5
}
