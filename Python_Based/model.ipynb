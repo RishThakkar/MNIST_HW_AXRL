{
 "cells": [
  {
   "cell_type": "code",
   "execution_count": 12,
   "id": "ae9f783d",
   "metadata": {},
   "outputs": [],
   "source": [
    "import numpy as np\n",
    "from keras.datasets import mnist\n",
    "from keras.models import Sequential \n",
    "import tensorflow as tf\n",
    "from tensorflow.keras.models import load_model\n",
    "from tensorflow.keras import Model\n",
    "from keras.layers import Conv2D, MaxPooling2D, Flatten, Dense, Dropout\n",
    "from keras.utils import to_categorical\n",
    "from skimage.transform import resize\n",
    "import h5py\n",
    "import os"
   ]
  },
  {
   "cell_type": "code",
   "execution_count": 13,
   "id": "c655504b",
   "metadata": {},
   "outputs": [],
   "source": [
    "# Load MNIST dataset\n",
    "(x_train, y_train), (x_test, y_test) = mnist.load_data()\n",
    "\n",
    "# Resize images to 42x42\n",
    "x_train_resized = np.zeros((x_train.shape[0], 42, 42))\n",
    "for i in range(x_train.shape[0]):\n",
    "    x_train_resized[i] = resize(x_train[i], (42, 42))\n",
    "\n",
    "x_test_resized = np.zeros((x_test.shape[0], 42, 42))\n",
    "for i in range(x_test.shape[0]):\n",
    "    x_test_resized[i] = resize(x_test[i], (42, 42))\n",
    "\n",
    "# Reshape to add channel dimension (required for Keras)\n",
    "x_train_resized = x_train_resized.reshape(-1, 42, 42, 1)\n",
    "x_test_resized = x_test_resized.reshape(-1, 42, 42, 1)\n",
    "\n",
    "# Normalize pixel values to range [0, 1]\n",
    "x_train_resized = x_train_resized.astype('float32') / 255.0\n",
    "x_test_resized = x_test_resized.astype('float32') / 255.0\n",
    "\n",
    "# One-hot encode labels\n",
    "y_train = to_categorical(y_train)\n",
    "y_test = to_categorical(y_test)\n"
   ]
  },
  {
   "cell_type": "code",
   "execution_count": 14,
   "id": "22512bac",
   "metadata": {},
   "outputs": [
    {
     "name": "stderr",
     "output_type": "stream",
     "text": [
      "c:\\Users\\Rishit Thakkar\\AppData\\Local\\Programs\\Python\\Python312\\Lib\\site-packages\\keras\\src\\layers\\convolutional\\base_conv.py:99: UserWarning: Do not pass an `input_shape`/`input_dim` argument to a layer. When using Sequential models, prefer using an `Input(shape)` object as the first layer in the model instead.\n",
      "  super().__init__(\n"
     ]
    }
   ],
   "source": [
    "model = Sequential()\n",
    "model.add(Conv2D(4, kernel_size=(3, 3), activation='relu', input_shape=(42, 42, 1)))\n",
    "model.add(MaxPooling2D(pool_size=(2, 2)))\n",
    "model.add(Conv2D(4, kernel_size=(3, 3), activation='relu'))\n",
    "model.add(MaxPooling2D(pool_size=(2, 2)))\n",
    "model.add(Flatten())\n",
    "model.add(Dropout(0.5))\n",
    "model.add(Dense(10, activation='softmax'))\n",
    "\n",
    "# Compile the model\n",
    "model.compile(loss='categorical_crossentropy', optimizer='adam', metrics=['accuracy'])\n",
    "\n",
    "# Train the model\n",
    "# model.fit(x_train_resized, y_train, batch_size=128, epochs=15, validation_data=(x_test_resized, y_test))\n",
    "\n",
    "# Quantize the weights and biases\n",
    "model_quantized = Sequential()\n",
    "for layer in model.layers:\n",
    "    if isinstance(layer, Dense) or isinstance(layer, Conv2D):\n",
    "        weights, biases = layer.get_weights()\n",
    "        weights_quantized = np.round(weights * 4) / 4  # Quantize weights to 2 bits for fixed point part\n",
    "        biases_quantized = np.round(biases * 4) / 4     # Quantize biases to 2 bits for fixed point part\n",
    "        layer.set_weights([weights_quantized, biases_quantized])\n",
    "    model_quantized.add(layer)\n",
    "\n",
    "model_quantized.compile(loss='categorical_crossentropy', optimizer='adam', metrics=['accuracy'])\n",
    "\n"
   ]
  },
  {
   "cell_type": "code",
   "execution_count": 22,
   "id": "ee72011c",
   "metadata": {},
   "outputs": [
    {
     "name": "stderr",
     "output_type": "stream",
     "text": [
      "WARNING:absl:Compiled the loaded model, but the compiled metrics have yet to be built. `model.compile_metrics` will be empty until you train or evaluate the model.\n"
     ]
    },
    {
     "name": "stdout",
     "output_type": "stream",
     "text": [
      "\u001b[1m313/313\u001b[0m \u001b[32m━━━━━━━━━━━━━━━━━━━━\u001b[0m\u001b[37m\u001b[0m \u001b[1m1s\u001b[0m 801us/step - accuracy: 0.8561 - loss: 0.6173\n",
      "Test Loss: 0.5866955518722534\n",
      "Test Accuracy: 0.8644999861717224\n"
     ]
    }
   ],
   "source": [
    "# model_quantized.save('quantized_mnist_model.h5')\n",
    "model_quantized = load_model('quantized_mnist_model.h5')\n",
    "\n",
    "loss, accuracy = model_quantized.evaluate(x_test_resized, y_test)\n",
    "print(\"Test Loss:\", loss)\n",
    "print(\"Test Accuracy:\", accuracy)"
   ]
  },
  {
   "cell_type": "code",
   "execution_count": 23,
   "id": "d8b90702",
   "metadata": {},
   "outputs": [
    {
     "name": "stdout",
     "output_type": "stream",
     "text": [
      "WARNING:tensorflow:6 out of the last 6 calls to <function TensorFlowTrainer.make_predict_function.<locals>.one_step_on_data_distributed at 0x000001CF6AE199E0> triggered tf.function retracing. Tracing is expensive and the excessive number of tracings could be due to (1) creating @tf.function repeatedly in a loop, (2) passing tensors with different shapes, (3) passing Python objects instead of tensors. For (1), please define your @tf.function outside of the loop. For (2), @tf.function has reduce_retracing=True option that can avoid unnecessary retracing. For (3), please refer to https://www.tensorflow.org/guide/function#controlling_retracing and https://www.tensorflow.org/api_docs/python/tf/function for  more details.\n"
     ]
    },
    {
     "name": "stderr",
     "output_type": "stream",
     "text": [
      "WARNING:tensorflow:6 out of the last 6 calls to <function TensorFlowTrainer.make_predict_function.<locals>.one_step_on_data_distributed at 0x000001CF6AE199E0> triggered tf.function retracing. Tracing is expensive and the excessive number of tracings could be due to (1) creating @tf.function repeatedly in a loop, (2) passing tensors with different shapes, (3) passing Python objects instead of tensors. For (1), please define your @tf.function outside of the loop. For (2), @tf.function has reduce_retracing=True option that can avoid unnecessary retracing. For (3), please refer to https://www.tensorflow.org/guide/function#controlling_retracing and https://www.tensorflow.org/api_docs/python/tf/function for  more details.\n"
     ]
    },
    {
     "name": "stdout",
     "output_type": "stream",
     "text": [
      "\u001b[1m1/1\u001b[0m \u001b[32m━━━━━━━━━━━━━━━━━━━━\u001b[0m\u001b[37m\u001b[0m \u001b[1m0s\u001b[0m 43ms/step\n",
      "Output shape of the first convolutional layer: (1, 40, 40, 4)\n",
      "Convolutional layer output saved\n"
     ]
    }
   ],
   "source": [
    "import numpy as np\n",
    "from keras.models import Sequential, Model\n",
    "from keras.layers import Conv2D\n",
    "from keras.preprocessing import image\n",
    "\n",
    "# Define the model architecture\n",
    "model = Sequential()\n",
    "model.add(Conv2D(4, kernel_size=(3, 3), activation='relu', input_shape=(42, 42, 1)))  \n",
    "\n",
    "# Compile the model\n",
    "model.compile(loss='categorical_crossentropy', optimizer='adam', metrics=['accuracy'])\n",
    "\n",
    "# Quantize the weights and biases\n",
    "model_quantized = Sequential()\n",
    "for layer in model.layers:\n",
    "    if isinstance(layer, Conv2D):\n",
    "        weights, biases = layer.get_weights()\n",
    "        weights_quantized = np.round(weights * 4) / 4  # Quantize weights\n",
    "        biases_quantized = np.round(biases * 4) / 4     # Quantize biases\n",
    "        layer.set_weights([weights_quantized, biases_quantized])\n",
    "    model_quantized.add(layer)\n",
    "\n",
    "model_quantized(tf.keras.Input((42, 42, 1)))  \n",
    "model_quantized.compile(loss='categorical_crossentropy', optimizer='adam', metrics=['accuracy'])\n",
    "\n",
    "# Load and preprocess the input image\n",
    "input_img_path = 'random_resized_image.png'\n",
    "img = image.load_img(input_img_path, target_size=(42, 42), color_mode='grayscale')  \n",
    "input_img_data = image.img_to_array(img)\n",
    "input_img_data = np.expand_dims(input_img_data, axis=0)\n",
    "\n",
    "# Predict the output of the first convolutional layer\n",
    "conv1_layer_output = Model(inputs=model_quantized.input, outputs=model_quantized.output)\n",
    "conv1_output = conv1_layer_output.predict(input_img_data)\n",
    "\n",
    "print(\"Output shape of the first convolutional layer:\", conv1_output.shape)\n",
    "\n",
    "# Save the convolutional layer output\n",
    "with open('Python_prog_out_conv.txt', 'w') as file:\n",
    "    for c in range(conv1_output.shape[3]):  # Iterate over channels\n",
    "        file.write(\"Channel %d:\\n\" % (c + 1))\n",
    "        for i in range(conv1_output.shape[1]):  # Iterate over height\n",
    "            file.write(\"[ \")\n",
    "            for j in range(conv1_output.shape[2]):  # Iterate over width\n",
    "                file.write(\"%.2f\" % conv1_output[0, i, j, c])\n",
    "                if j != conv1_output.shape[2] - 1:\n",
    "                    file.write(\", \")\n",
    "            file.write(\" ]\\n\")\n",
    "        file.write(\"\\n\")\n",
    "\n",
    "print(\"Convolutional layer output saved\")\n"
   ]
  }
 ],
 "metadata": {
  "kernelspec": {
   "display_name": "Python 3 (ipykernel)",
   "language": "python",
   "name": "python3"
  },
  "language_info": {
   "codemirror_mode": {
    "name": "ipython",
    "version": 3
   },
   "file_extension": ".py",
   "mimetype": "text/x-python",
   "name": "python",
   "nbconvert_exporter": "python",
   "pygments_lexer": "ipython3",
   "version": "3.12.2"
  }
 },
 "nbformat": 4,
 "nbformat_minor": 5
}
