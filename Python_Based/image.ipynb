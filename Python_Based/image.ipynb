{
 "cells": [
  {
   "cell_type": "code",
   "execution_count": 9,
   "metadata": {},
   "outputs": [],
   "source": [
    "import tensorflow as tf\n",
    "import numpy as np\n",
    "import matplotlib.pyplot as plt\n",
    "\n",
    "# # Load MNIST dataset\n",
    "# mnist = tf.keras.datasets.mnist\n",
    "# (train_images, train_labels), (test_images, test_labels) = mnist.load_data()\n",
    "\n",
    "# # Select a random image from the dataset\n",
    "# index = np.random.randint(0, len(train_images))\n",
    "# image = train_images[index]\n",
    "\n",
    "# # Add channel dimension to the image\n",
    "# image = tf.expand_dims(image, axis=-1)\n",
    "\n",
    "# # Resize the image to 42x42\n",
    "# resized_image = tf.image.resize(image, [42, 42], method='nearest')\n",
    "\n",
    "# # Save the resized image to a file\n",
    "# plt.imshow(resized_image.numpy().squeeze(), cmap='gray')\n",
    "# # plt.title('Resized Image (42x42)')\n",
    "# plt.axis('off')  # Turn off axis\n",
    "# plt.savefig('random_resized_image.png')  \n",
    "# plt.show()  \n",
    "\n",
    "# # Flatten the resized image into a 1D array\n",
    "# flattened_image = resized_image.numpy().reshape(-1)\n",
    "\n",
    "# # Save the flattened array to a text file in a single row with comma delimiter\n",
    "# np.savetxt('flattened_image_array.txt', flattened_image, fmt='%d', delimiter=',')\n",
    "\n",
    "# # Confirming the save\n",
    "# print(\"Flattened Image Array saved to flattened_image_array.txt\")"
   ]
  },
  {
   "cell_type": "code",
   "execution_count": 1,
   "metadata": {},
   "outputs": [
    {
     "name": "stdout",
     "output_type": "stream",
     "text": [
      "Flattened Image Array saved to flattened_image_array.txt\n"
     ]
    }
   ],
   "source": [
    "from keras.preprocessing import image\n",
    "import numpy as np\n",
    "\n",
    "# Load and preprocess the single image\n",
    "img_path = \"demo7.png\"  \n",
    "img = image.load_img(img_path, target_size=(42, 42), color_mode='grayscale')  \n",
    "img_array = image.img_to_array(img)\n",
    "img_array = np.expand_dims(img_array, axis=0)\n",
    "# print(img_array)\n",
    "img_flat = img_array.flatten()\n",
    "\n",
    "img_array = np.array(img_flat)\n",
    "# img_array = img_array/ 255.000  \n",
    "# img_array.astype(float)\n",
    "# Save the flattened array to a text file\n",
    "np.savetxt('flattened_image_array.txt', img_array, fmt='%d', delimiter=',')\n",
    "\n",
    "print(\"Flattened Image Array saved to flattened_image_array.txt\")"
   ]
  },
  {
   "cell_type": "code",
   "execution_count": 2,
   "metadata": {},
   "outputs": [],
   "source": [
    "with open('flattened_image_array.txt', 'r') as file:\n",
    "    lines = file.readlines()\n",
    "\n",
    "array_str = ','.join(line.strip() for line in lines)\n",
    "\n",
    "with open('flattened_image_array.txt' , 'w') as file:\n",
    "    file.write(array_str)"
   ]
  },
  {
   "cell_type": "code",
   "execution_count": null,
   "metadata": {},
   "outputs": [],
   "source": [
    "# # Load the model from the .h5 file\n",
    "# model = load_model('model_weights.h5')\n",
    "\n",
    "# # Get the weights and biases of all layers in the model\n",
    "# weights_and_biases = []\n",
    "# for layer in model.layers:\n",
    "#     if hasattr(layer, 'get_weights'):\n",
    "#         layer_weights = layer.get_weights()\n",
    "#         for w in layer_weights:\n",
    "#             weights_and_biases.extend(w.flatten())\n",
    "\n",
    "# # Convert the weights and biases to a numpy array\n",
    "# weights_and_biases = np.array(weights_and_biases)\n",
    "\n",
    "# # Save the weights and biases to a text file\n",
    "# np.savetxt('model_weights.txt', weights_and_biases, fmt='%0.8f')"
   ]
  },
  {
   "cell_type": "code",
   "execution_count": 25,
   "metadata": {},
   "outputs": [],
   "source": [
    "# import tensorflow as tf\n",
    "# import numpy as np\n",
    "# import matplotlib.pyplot as plt\n",
    "\n",
    "# # Load MNIST dataset\n",
    "# mnist = tf.keras.datasets.mnist\n",
    "# (train_images, train_labels), (test_images, test_labels) = mnist.load_data()\n",
    "\n",
    "# # Select a random image from the dataset\n",
    "# index = np.random.randint(0, len(train_images))\n",
    "# image = train_images[index]\n",
    "\n",
    "# # Add channel dimension to the image\n",
    "# image = tf.expand_dims(image, axis=-1)\n",
    "\n",
    "# # Resize the image to 42x42\n",
    "# resized_image = tf.image.resize(image, [42, 42], method='nearest')\n",
    "\n",
    "# # Plot the original and resized images\n",
    "# plt.figure(figsize=(8, 4))\n",
    "# plt.subplot(1, 2, 1)\n",
    "# plt.title('Original Image')\n",
    "# plt.imshow(image.numpy().squeeze(), cmap='gray')\n",
    "# plt.subplot(1, 2, 2)\n",
    "# plt.title('Resized Image (42x42)')\n",
    "# plt.imshow(resized_image.numpy().squeeze(), cmap='gray')\n",
    "# plt.show()\n",
    "\n",
    "# # Flatten the resized image into a 1D array\n",
    "# flattened_image = resized_image.numpy().flatten()\n",
    "\n",
    "# # Save the flattened array to a text file\n",
    "# np.savetxt('flattened_image_array.txt', flattened_image, fmt='%d')\n",
    "\n",
    "# # Confirming the save\n",
    "# print(\"Flattened Image Array saved to flattened_image_array.txt\")\n"
   ]
  },
  {
   "cell_type": "markdown",
   "metadata": {},
   "source": [
    "# Rounding off"
   ]
  },
  {
   "cell_type": "code",
   "execution_count": 10,
   "metadata": {},
   "outputs": [],
   "source": [
    "float_values = np.loadtxt(\"model_weights.txt\")\n",
    "\n",
    "scaled_values = float_values * 4\n",
    "\n",
    "fixed_point_values = np.round(scaled_values).astype(np.int8)\n",
    "\n",
    "np.savetxt(\"model_weights_quantized.txt\", fixed_point_values, fmt='%d')"
   ]
  },
  {
   "cell_type": "markdown",
   "metadata": {},
   "source": [
    "# Int part"
   ]
  },
  {
   "cell_type": "code",
   "execution_count": 16,
   "metadata": {},
   "outputs": [],
   "source": [
    "import numpy as np\n",
    "\n",
    "weights = np.loadtxt(\"model_weights.txt\")\n",
    "\n",
    "integer_parts = np.floor(weights)\n",
    "\n",
    "np.savetxt(\"integer_parts.txt\", integer_parts, fmt='%d')\n"
   ]
  },
  {
   "cell_type": "code",
   "execution_count": 2,
   "metadata": {},
   "outputs": [],
   "source": [
    "import numpy as np\n",
    "\n",
    "# Load weights from the text file\n",
    "weights = np.loadtxt(\"model_weights.txt\")\n",
    "\n",
    "binary_representations = []\n",
    "for weight in weights:\n",
    "    if '-' in str(weight):  \n",
    "        binary_representations.append('1' + format(int(abs(weight)) & 0b11, '02b'))  \n",
    "    else:\n",
    "        binary_representations.append(format(int(weight) & 0b111, '03b'))  \n",
    "\n",
    "np.savetxt(\"binary_representations_int.txt\", binary_representations, fmt='%s')\n"
   ]
  },
  {
   "cell_type": "code",
   "execution_count": 3,
   "metadata": {},
   "outputs": [
    {
     "name": "stdout",
     "output_type": "stream",
     "text": [
      "0.806732\n"
     ]
    }
   ],
   "source": [
    "import numpy as np\n",
    "\n",
    "weights = np.loadtxt(\"model_weights.txt\")\n",
    "\n",
    "fractional_parts = np.abs(weights - np.floor(weights))\n",
    "\n",
    "print(fractional_part)\n",
    "\n",
    "binary_representations = []\n",
    "for fractional_part in fractional_parts:\n",
    "    binary_representations.append(format(int(fractional_part * 32), '05b'))  \n",
    "\n",
    "# Save binary representations to a text file\n",
    "np.savetxt(\"binary_representations_fractional.txt\", binary_representations, fmt='%s')\n"
   ]
  },
  {
   "cell_type": "code",
   "execution_count": null,
   "metadata": {},
   "outputs": [],
   "source": []
  }
 ],
 "metadata": {
  "kernelspec": {
   "display_name": "Python 3",
   "language": "python",
   "name": "python3"
  },
  "language_info": {
   "codemirror_mode": {
    "name": "ipython",
    "version": 3
   },
   "file_extension": ".py",
   "mimetype": "text/x-python",
   "name": "python",
   "nbconvert_exporter": "python",
   "pygments_lexer": "ipython3",
   "version": "3.12.2"
  }
 },
 "nbformat": 4,
 "nbformat_minor": 2
}
