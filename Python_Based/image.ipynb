{
 "cells": [
  {
   "cell_type": "code",
   "execution_count": 1,
   "metadata": {},
   "outputs": [],
   "source": [
    "import tensorflow as tf\n",
    "import numpy as np\n",
    "import matplotlib.pyplot as plt\n",
    "\n",
    "# # Load MNIST dataset\n",
    "# mnist = tf.keras.datasets.mnist\n",
    "# (train_images, train_labels), (test_images, test_labels) = mnist.load_data()\n",
    "\n",
    "# # Select a random image from the dataset\n",
    "# index = np.random.randint(0, len(train_images))\n",
    "# image = train_images[index]\n",
    "\n",
    "# # Add channel dimension to the image\n",
    "# image = tf.expand_dims(image, axis=-1)\n",
    "\n",
    "# # Resize the image to 42x42\n",
    "# resized_image = tf.image.resize(image, [42, 42], method='nearest')\n",
    "\n",
    "# # Save the resized image to a file\n",
    "# plt.imshow(resized_image.numpy().squeeze(), cmap='gray')\n",
    "# # plt.title('Resized Image (42x42)')\n",
    "# plt.axis('off')  # Turn off axis\n",
    "# plt.savefig('random_resized_image.png')  \n",
    "# plt.show()  \n",
    "\n",
    "# # Flatten the resized image into a 1D array\n",
    "# flattened_image = resized_image.numpy().reshape(-1)\n",
    "\n",
    "# # Save the flattened array to a text file in a single row with comma delimiter\n",
    "# np.savetxt('flattened_image_array.txt', flattened_image, fmt='%d', delimiter=',')\n",
    "\n",
    "# # Confirming the save\n",
    "# print(\"Flattened Image Array saved to flattened_image_array.txt\")"
   ]
  },
  {
   "cell_type": "code",
   "execution_count": 9,
   "metadata": {},
   "outputs": [
    {
     "name": "stdout",
     "output_type": "stream",
     "text": [
      "Flattened Image Array saved to flattened_image_array.txt\n"
     ]
    }
   ],
   "source": [
    "from keras.preprocessing import image\n",
    "import numpy as np\n",
    "\n",
    "# Load and preprocess the single image\n",
    "img_path = \"demo7.png\"  \n",
    "img = image.load_img(img_path, target_size=(42, 42), color_mode='grayscale')  \n",
    "img_array = image.img_to_array(img)\n",
    "img_array = np.expand_dims(img_array, axis=0)\n",
    "# print(img_array)\n",
    "img_flat = img_array.flatten()\n",
    "\n",
    "img_array = np.array(img_flat)\n",
    "# img_array = img_array/ 255.000  \n",
    "# img_array.astype(float)\n",
    "# Save the flattened array to a text file\n",
    "np.savetxt('flattened_image_array.txt', img_array, fmt='%d', delimiter=',')\n",
    "\n",
    "print(\"Flattened Image Array saved to flattened_image_array.txt\")"
   ]
  },
  {
   "cell_type": "code",
   "execution_count": 8,
   "metadata": {},
   "outputs": [],
   "source": [
    "with open('flattened_image_array.txt', 'r') as file:\n",
    "    lines = file.readlines()\n",
    "\n",
    "array_str = ','.join(line.strip() for line in lines)\n",
    "\n",
    "with open('flattened_image_array.txt' , 'w') as file:\n",
    "    file.write(array_str)"
   ]
  },
  {
   "cell_type": "markdown",
   "metadata": {},
   "source": [
    "# Either 0 or 1"
   ]
  },
  {
   "cell_type": "code",
   "execution_count": 18,
   "metadata": {},
   "outputs": [
    {
     "name": "stdout",
     "output_type": "stream",
     "text": [
      "Processed image saved to demo7_binary.png\n",
      "Binary data saved to image_BnW.txt\n"
     ]
    }
   ],
   "source": [
    "from PIL import Image\n",
    "import numpy as np\n",
    "\n",
    "def load_image(img_path, size):\n",
    "    # Load and resize the image\n",
    "    img = Image.open(img_path).convert('L')  # Convert to grayscale\n",
    "    img = img.resize(size)\n",
    "    return np.array(img)\n",
    "\n",
    "def apply_threshold(img_array, threshold):\n",
    "    return (img_array >= threshold).astype(np.uint8)  # Directly as 0 or 1\n",
    "\n",
    "def save_image(img_array, output_path):\n",
    "    # Map 1 to 255 (white) and 0 to 0 (black) when saving as an image\n",
    "    img_to_save = img_array * 255  # Convert 1 to 255 for white\n",
    "    img = Image.fromarray(img_to_save.astype(np.uint8))\n",
    "    img.save(output_path)\n",
    "\n",
    "def save_to_txt_file(data, filename):\n",
    "    flattened_data = data.flatten()\n",
    "    np.savetxt(filename, flattened_data, fmt='%d', newline='\\n')\n",
    "\n",
    "if __name__ == \"__main__\":\n",
    "    img_path = \"demo7.png\"\n",
    "    output_path = \"demo7_binary.png\"\n",
    "    txt_output_path = \"image_BnW.txt\"\n",
    "    size = (42, 42)  # The target size for the image\n",
    "    threshold = 128  # Define the threshold\n",
    "\n",
    "    img_array = load_image(img_path, size)\n",
    "    img_binary = apply_threshold(img_array, threshold)\n",
    "\n",
    "    save_image(img_binary, output_path)\n",
    "    print(\"Processed image saved to\", output_path)\n",
    "\n",
    "    save_to_txt_file(img_binary, txt_output_path)\n",
    "    print(\"Binary data saved to\", txt_output_path)\n"
   ]
  },
  {
   "cell_type": "markdown",
   "metadata": {},
   "source": [
    "# between 0 and 1 (Normalize)"
   ]
  },
  {
   "cell_type": "code",
   "execution_count": 1,
   "metadata": {},
   "outputs": [
    {
     "name": "stdout",
     "output_type": "stream",
     "text": [
      "Normalized image saved to demo7_normalized.tiff\n",
      "Normalized image data saved to image_normalized.txt\n"
     ]
    }
   ],
   "source": [
    "import numpy as np\n",
    "from PIL import Image\n",
    "import imageio  # New import for saving images that can handle floating point values\n",
    "\n",
    "def load_image(img_path, size):\n",
    "    # Load and resize the image\n",
    "    img = Image.open(img_path).convert('L')  # Convert to grayscale\n",
    "    img = img.resize(size)\n",
    "    img_array = np.array(img)\n",
    "    # Normalize pixel values to be between 0 and 1\n",
    "    normalized_img_array = img_array / 255.0\n",
    "    return normalized_img_array\n",
    "    \n",
    "def save_image(img_array, output_path):\n",
    "    # Convert to floating-point image format (TIFF) using imageio for accurate storage\n",
    "    imageio.imwrite(output_path, img_array.astype(np.float32), format='TIFF')\n",
    "\n",
    "def save_to_txt_file(data, filename):\n",
    "    # Save as floating point numbers directly\n",
    "    flattened_data = data.flatten()\n",
    "    np.savetxt(filename, flattened_data, fmt='%.6f', newline='\\n')\n",
    "\n",
    "if __name__ == \"__main__\":\n",
    "    img_path = \"demo7.png\"\n",
    "    output_path = \"demo7_normalized.tiff\"  # Changed to TIFF for floating point support\n",
    "    txt_output_path = \"image_normalized.txt\"\n",
    "    size = (42, 42)  # The target size for the image\n",
    "\n",
    "    img_array = load_image(img_path, size)\n",
    "\n",
    "    save_image(img_array, output_path)\n",
    "    print(\"Normalized image saved to\", output_path)\n",
    "\n",
    "    save_to_txt_file(img_array, txt_output_path)\n",
    "    print(\"Normalized image data saved to\", txt_output_path)\n"
   ]
  },
  {
   "cell_type": "code",
   "execution_count": 1,
   "metadata": {},
   "outputs": [],
   "source": [
    "with open('binary_weights_new.txt', 'r') as file:\n",
    "    lines = file.readlines()\n",
    "\n",
    "array_str = ','.join(line.strip() for line in lines)\n",
    "\n",
    "with open('binary_weights_new.txt' , 'w') as file:\n",
    "    file.write(array_str)"
   ]
  },
  {
   "cell_type": "code",
   "execution_count": 2,
   "metadata": {},
   "outputs": [],
   "source": [
    "with open('binary_image.txt', 'r') as file:\n",
    "    lines = file.readlines()\n",
    "\n",
    "array_str = ','.join(line.strip() for line in lines)\n",
    "\n",
    "with open('binary_image.txt' , 'w') as file:\n",
    "    file.write(array_str)"
   ]
  },
  {
   "cell_type": "code",
   "execution_count": 1,
   "metadata": {},
   "outputs": [],
   "source": [
    "with open('binary_weights.txt', 'r') as file:\n",
    "    lines = file.readlines()\n",
    "\n",
    "array_str = ','.join(line.strip() for line in lines)\n",
    "\n",
    "with open('binary_weights.txt' , 'w') as file:\n",
    "    file.write(array_str)"
   ]
  },
  {
   "cell_type": "code",
   "execution_count": null,
   "metadata": {},
   "outputs": [],
   "source": [
    "# # Load the model from the .h5 file\n",
    "# model = load_model('model_weights.h5')\n",
    "\n",
    "# # Get the weights and biases of all layers in the model\n",
    "# weights_and_biases = []\n",
    "# for layer in model.layers:\n",
    "#     if hasattr(layer, 'get_weights'):\n",
    "#         layer_weights = layer.get_weights()\n",
    "#         for w in layer_weights:\n",
    "#             weights_and_biases.extend(w.flatten())\n",
    "\n",
    "# # Convert the weights and biases to a numpy array\n",
    "# weights_and_biases = np.array(weights_and_biases)\n",
    "\n",
    "# # Save the weights and biases to a text file\n",
    "# np.savetxt('model_weights.txt', weights_and_biases, fmt='%0.8f')"
   ]
  },
  {
   "cell_type": "markdown",
   "metadata": {},
   "source": [
    "# Rounding off"
   ]
  },
  {
   "cell_type": "code",
   "execution_count": 10,
   "metadata": {},
   "outputs": [],
   "source": [
    "float_values = np.loadtxt(\"model_weights.txt\")\n",
    "\n",
    "scaled_values = float_values * 4\n",
    "\n",
    "fixed_point_values = np.round(scaled_values).astype(np.int8)\n",
    "\n",
    "np.savetxt(\"model_weights_quantized.txt\", fixed_point_values, fmt='%d')"
   ]
  },
  {
   "cell_type": "markdown",
   "metadata": {},
   "source": [
    "# Python Script for Dense Layer"
   ]
  },
  {
   "cell_type": "code",
   "execution_count": 12,
   "metadata": {},
   "outputs": [
    {
     "name": "stdout",
     "output_type": "stream",
     "text": [
      "[-0.0628828   0.08443162 -0.06693464 ... -0.6506854  -0.4093783\n",
      "  0.61668533]\n",
      "Model weights saved to model_weights.txt\n"
     ]
    }
   ],
   "source": [
    "import numpy as np\n",
    "text_file = np.loadtxt(\"model_weights_copy.txt\")\n",
    "# print(text_file[188:3428])\n",
    "\n",
    "array_b = np.zeros(3240)\n",
    "array_a = text_file[188:3428]\n",
    "print(array_a)\n",
    "\n",
    "for i in range(10):\n",
    "    for j in range(4):\n",
    "        for k in range(9*9):\n",
    "            array_b[i + k * 10 + (j * 9 * 9 * 10)] = array_a[(j * 10) + (k * 40) + i]\n",
    "\n",
    "array_final = np.zeros(3438)\n",
    "\n",
    "array_final[0:188] = text_file[0:188]\n",
    "array_final[188:3428] = array_b\n",
    "array_final[3428:3438] = text_file[3428:3438]\n",
    "\n",
    "\n",
    "with open('model_weights_new.txt', 'w') as file:\n",
    "    for layer_weights in array_final:\n",
    "            file.write(str(layer_weights) + '\\n')\n",
    "\n",
    "print(\"Model weights saved to model_weights.txt\")\n",
    "\n",
    "\n",
    "# np.savetxt(\"model_weights_new.txt\", array_final, delimiter=',', fmt='%f')  \n"
   ]
  },
  {
   "cell_type": "code",
   "execution_count": null,
   "metadata": {},
   "outputs": [],
   "source": []
  }
 ],
 "metadata": {
  "kernelspec": {
   "display_name": "Python 3",
   "language": "python",
   "name": "python3"
  },
  "language_info": {
   "codemirror_mode": {
    "name": "ipython",
    "version": 3
   },
   "file_extension": ".py",
   "mimetype": "text/x-python",
   "name": "python",
   "nbconvert_exporter": "python",
   "pygments_lexer": "ipython3",
   "version": "3.12.2"
  }
 },
 "nbformat": 4,
 "nbformat_minor": 2
}
