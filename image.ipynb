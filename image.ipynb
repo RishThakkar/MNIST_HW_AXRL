{
 "cells": [
  {
   "cell_type": "code",
   "execution_count": 27,
   "metadata": {},
   "outputs": [
    {
     "data": {
      "image/png": "[encoded data removed]",
      "text/plain": [
       "<Figure size 640x480 with 1 Axes>"
      ]
     },
     "metadata": {},
     "output_type": "display_data"
    },
    {
     "name": "stdout",
     "output_type": "stream",
     "text": [
      "Flattened Image Array saved to flattened_image_array.txt\n"
     ]
    }
   ],
   "source": [
    "import tensorflow as tf\n",
    "import numpy as np\n",
    "import matplotlib.pyplot as plt\n",
    "\n",
    "# Load MNIST dataset\n",
    "mnist = tf.keras.datasets.mnist\n",
    "(train_images, train_labels), (test_images, test_labels) = mnist.load_data()\n",
    "\n",
    "# Select a random image from the dataset\n",
    "index = np.random.randint(0, len(train_images))\n",
    "image = train_images[index]\n",
    "\n",
    "# Add channel dimension to the image\n",
    "image = tf.expand_dims(image, axis=-1)\n",
    "\n",
    "# Resize the image to 42x42\n",
    "resized_image = tf.image.resize(image, [42, 42], method='nearest')\n",
    "\n",
    "# Save the resized image to a file\n",
    "plt.imshow(resized_image.numpy().squeeze(), cmap='gray')\n",
    "# plt.title('Resized Image (42x42)')\n",
    "plt.axis('off')  # Turn off axis\n",
    "plt.savefig('random_resized_image.png')  # Save the figure without displaying it\n",
    "plt.show()  # Display the figure if needed\n",
    "\n",
    "# Flatten the resized image into a 1D array\n",
    "flattened_image = resized_image.numpy().reshape(-1)\n",
    "\n",
    "# Save the flattened array to a text file in a single row with comma delimiter\n",
    "np.savetxt('flattened_image_array.txt', flattened_image, fmt='%d', delimiter=',')\n",
    "\n",
    "# Confirming the save\n",
    "print(\"Flattened Image Array saved to flattened_image_array.txt\")"
   ]
  },
  {
   "cell_type": "code",
   "execution_count": 28,
   "metadata": {},
   "outputs": [],
   "source": [
    "with open('flattened_image_array.txt', 'r') as file:\n",
    "    lines = file.readlines()\n",
    "\n",
    "array_str = ','.join(line.strip() for line in lines)\n",
    "\n",
    "with open('flattened_image_array.txt' , 'w') as file:\n",
    "    file.write(array_str)"
   ]
  },
  {
   "cell_type": "code",
   "execution_count": 25,
   "metadata": {},
   "outputs": [],
   "source": [
    "# import tensorflow as tf\n",
    "# import numpy as np\n",
    "# import matplotlib.pyplot as plt\n",
    "\n",
    "# # Load MNIST dataset\n",
    "# mnist = tf.keras.datasets.mnist\n",
    "# (train_images, train_labels), (test_images, test_labels) = mnist.load_data()\n",
    "\n",
    "# # Select a random image from the dataset\n",
    "# index = np.random.randint(0, len(train_images))\n",
    "# image = train_images[index]\n",
    "\n",
    "# # Add channel dimension to the image\n",
    "# image = tf.expand_dims(image, axis=-1)\n",
    "\n",
    "# # Resize the image to 42x42\n",
    "# resized_image = tf.image.resize(image, [42, 42], method='nearest')\n",
    "\n",
    "# # Plot the original and resized images\n",
    "# plt.figure(figsize=(8, 4))\n",
    "# plt.subplot(1, 2, 1)\n",
    "# plt.title('Original Image')\n",
    "# plt.imshow(image.numpy().squeeze(), cmap='gray')\n",
    "# plt.subplot(1, 2, 2)\n",
    "# plt.title('Resized Image (42x42)')\n",
    "# plt.imshow(resized_image.numpy().squeeze(), cmap='gray')\n",
    "# plt.show()\n",
    "\n",
    "# # Flatten the resized image into a 1D array\n",
    "# flattened_image = resized_image.numpy().flatten()\n",
    "\n",
    "# # Save the flattened array to a text file\n",
    "# np.savetxt('flattened_image_array.txt', flattened_image, fmt='%d')\n",
    "\n",
    "# # Confirming the save\n",
    "# print(\"Flattened Image Array saved to flattened_image_array.txt\")\n"
   ]
  },
  {
   "cell_type": "code",
   "execution_count": 26,
   "metadata": {},
   "outputs": [],
   "source": []
  },
  {
   "cell_type": "code",
   "execution_count": null,
   "metadata": {},
   "outputs": [],
   "source": []
  }
 ],
 "metadata": {
  "kernelspec": {
   "display_name": "Python 3",
   "language": "python",
   "name": "python3"
  },
  "language_info": {
   "codemirror_mode": {
    "name": "ipython",
    "version": 3
   },
   "file_extension": ".py",
   "mimetype": "text/x-python",
   "name": "python",
   "nbconvert_exporter": "python",
   "pygments_lexer": "ipython3",
   "version": "3.12.2"
  }
 },
 "nbformat": 4,
 "nbformat_minor": 2
}
