{
 "cells": [
  {
   "cell_type": "code",
   "execution_count": 1,
   "id": "ae9f783d",
   "metadata": {},
   "outputs": [],
   "source": [
    "import numpy as np\n",
    "from keras.datasets import mnist\n",
    "from keras.models import Sequential \n",
    "import tensorflow as tf\n",
    "from tensorflow.keras.models import load_model\n",
    "from tensorflow.keras import Model\n",
    "from keras.layers import Conv2D, MaxPooling2D, Flatten, Dense, Dropout\n",
    "from keras.utils import to_categorical\n",
    "from skimage.transform import resize\n",
    "import h5py\n",
    "import os\n",
    "import cv2\n"
   ]
  },
  {
   "cell_type": "markdown",
   "id": "cc3dc956",
   "metadata": {},
   "source": [
    "### Resize as 42x42(Camera like), make it between 0 and 127(Divide each pixel by 2), so that it can be represented in 7 bits"
   ]
  },
  {
   "cell_type": "code",
   "execution_count": 2,
   "id": "eb95bfc3",
   "metadata": {},
   "outputs": [
    {
     "name": "stdout",
     "output_type": "stream",
     "text": [
      "127\n",
      "(10000, 42, 42, 1)\n"
     ]
    }
   ],
   "source": [
    "# Load MNIST dataset\n",
    "(x_train, y_train), (x_test, y_test) = mnist.load_data()\n",
    "\n",
    "x_train_resized = np.zeros((x_train.shape[0], 42, 42), dtype=np.uint8)\n",
    "for i in range(x_train.shape[0]):\n",
    "    x_train_resized[i] = cv2.resize(x_train[i], (42, 42))\n",
    "\n",
    "x_test_resized = np.zeros((x_test.shape[0], 42, 42), dtype=np.uint8)\n",
    "for i in range(x_test.shape[0]):\n",
    "    x_test_resized[i] = cv2.resize(x_test[i], (42, 42))\n",
    "\n",
    "x_train_resized = x_train_resized.reshape(-1, 42, 42, 1)\n",
    "x_test_resized = x_test_resized.reshape(-1, 42, 42, 1)\n",
    "\n",
    "# Divide by 2\n",
    "for i in range(x_train.shape[0]):\n",
    "    x_train_resized[i] = x_train_resized[i]/2   \n",
    "\n",
    "for i in range(x_test.shape[0]):\n",
    "    x_test_resized[i] = x_test_resized[i]/2\n",
    "\n",
    "x_test_max = np.max(x_test_resized)\n",
    "print(x_test_max)\n",
    "print(x_test_resized.shape)\n",
    "\n",
    "# One-hot encode labels\n",
    "y_train = to_categorical(y_train)\n",
    "y_test = to_categorical(y_test)\n"
   ]
  },
  {
   "cell_type": "markdown",
   "id": "b7e1d0bd",
   "metadata": {},
   "source": [
    "### Convert into bits, and then convert again in Floating point but using our Fixed point Representation: [-8, 4, 2, 1, 0.5, 0.25, 0.125, 0.0625] So, 127 -> 7.95"
   ]
  },
  {
   "cell_type": "code",
   "execution_count": 3,
   "id": "f5529566",
   "metadata": {},
   "outputs": [],
   "source": [
    "def convert_to_binary(images):\n",
    "    binary_images = []\n",
    "\n",
    "    for img in images:\n",
    "        binary_img = []\n",
    "\n",
    "        for pixel_value in np.nditer(img):\n",
    "            binary_str = format(pixel_value, '08b')\n",
    "            binary_img.append(binary_str)\n",
    "\n",
    "        binary_images.append(binary_img)\n",
    "\n",
    "    return binary_images\n",
    "\n",
    "# Convert x_test_resized and x_train_resized to binary\n",
    "binary_x_test_resized = convert_to_binary(x_test_resized)\n",
    "binary_x_train_resized = convert_to_binary(x_train_resized)"
   ]
  },
  {
   "cell_type": "code",
   "execution_count": 4,
   "id": "8ed2bb20",
   "metadata": {},
   "outputs": [],
   "source": [
    "def binary_to_float(binary_str):\n",
    "    weights = [-8, 4, 2, 1, 0.5, 0.25, 0.125, 0.0625]\n",
    "    \n",
    "    result = 0\n",
    "    \n",
    "    for i, bit in enumerate(binary_str):\n",
    "        result += int(bit) * weights[i]\n",
    "    \n",
    "    return result\n",
    "\n",
    "def convert_to_float(binary_images):\n",
    "    float_images = []\n",
    "\n",
    "    for img in binary_images:\n",
    "        float_img = []\n",
    "\n",
    "        for binary_str in img:\n",
    "            float_value = binary_to_float(binary_str)\n",
    "            float_img.append(float_value)\n",
    "        \n",
    "        float_img = np.array(float_img).reshape((42, 42))\n",
    "        float_images.append(float_img)\n",
    "\n",
    "    return np.array(float_images)\n",
    "\n",
    "# Convert binary_x_test_resized and binary_x_train_resized to floating point values as numpy arrays\n",
    "FP_x_test_resized = convert_to_float(binary_x_test_resized)\n",
    "FP_x_train_resized = convert_to_float(binary_x_train_resized)\n",
    "\n",
    "FP_x_train_resized = FP_x_train_resized.reshape(-1, 42, 42, 1)\n",
    "FP_x_test_resized = FP_x_test_resized.reshape(-1, 42, 42, 1)"
   ]
  },
  {
   "cell_type": "markdown",
   "id": "ac15ae28",
   "metadata": {},
   "source": [
    "### Model Training (Not needed if you have the model_weights_FP.h5 file)"
   ]
  },
  {
   "cell_type": "code",
   "execution_count": 5,
   "id": "22512bac",
   "metadata": {},
   "outputs": [],
   "source": [
    "# import numpy as np\n",
    "# from keras.models import Sequential\n",
    "# from keras.layers import Conv2D, MaxPooling2D, Flatten, Dropout, Dense\n",
    "# from keras.callbacks import ModelCheckpoint\n",
    "\n",
    "# model = Sequential()\n",
    "# model.add(Conv2D(4, kernel_size=(3, 3), activation='relu', input_shape=(42, 42, 1)))\n",
    "# model.add(MaxPooling2D(pool_size=(2, 2)))\n",
    "# model.add(Conv2D(4, kernel_size=(3, 3), activation='relu'))\n",
    "# model.add(MaxPooling2D(pool_size=(2, 2)))\n",
    "# model.add(Flatten())\n",
    "# model.add(Dropout(0.5))\n",
    "# model.add(Dense(10, activation='softmax'))\n",
    "\n",
    "# # Compile the model\n",
    "# model.compile(loss='categorical_crossentropy', optimizer='adam', metrics=['accuracy'])\n",
    "\n",
    "# model.fit(FP_x_train_resized, y_train, batch_size=50, epochs=15, validation_data=(FP_x_test_resized, y_test))\n",
    "\n",
    "# model.save('model_weights_FP.h5')\n"
   ]
  },
  {
   "cell_type": "markdown",
   "id": "51fa6d4a",
   "metadata": {},
   "source": [
    "### Generating txt file(Required for C) from h5"
   ]
  },
  {
   "cell_type": "code",
   "execution_count": 10,
   "id": "e82956f2",
   "metadata": {},
   "outputs": [],
   "source": [
    "# from keras.models import load_model\n",
    "\n",
    "# model = load_model('model_weights_FP.h5')\n",
    "\n",
    "# # Get the weights for each layer\n",
    "# weights = model.get_weights()\n",
    "\n",
    "# # Save the weights to a text file\n",
    "# with open('model_weights_FP.txt', 'w') as file:\n",
    "#     for layer_weights in weights:\n",
    "#         for weight in layer_weights.flatten():\n",
    "#             file.write(str(weight) + '\\n')\n",
    "\n",
    "# print(\"Model weights saved to model_weights_FP.txt\")"
   ]
  },
  {
   "cell_type": "code",
   "execution_count": 11,
   "id": "2aced222",
   "metadata": {},
   "outputs": [],
   "source": [
    "# model.summary()"
   ]
  },
  {
   "cell_type": "markdown",
   "id": "e616d255",
   "metadata": {},
   "source": [
    "### Testing"
   ]
  },
  {
   "cell_type": "code",
   "execution_count": 12,
   "id": "ee72011c",
   "metadata": {},
   "outputs": [
    {
     "name": "stderr",
     "output_type": "stream",
     "text": [
      "WARNING:absl:Compiled the loaded model, but the compiled metrics have yet to be built. `model.compile_metrics` will be empty until you train or evaluate the model.\n"
     ]
    },
    {
     "name": "stdout",
     "output_type": "stream",
     "text": [
      "\u001b[1m313/313\u001b[0m \u001b[32m━━━━━━━━━━━━━━━━━━━━\u001b[0m\u001b[37m\u001b[0m \u001b[1m0s\u001b[0m 878us/step - accuracy: 0.9707 - loss: 0.0880\n",
      "Test Loss: 0.07181327790021896\n",
      "Test Accuracy: 0.9771000146865845\n"
     ]
    }
   ],
   "source": [
    "import numpy as np\n",
    "from keras.models import Sequential, load_model\n",
    "from keras.layers import Conv2D, MaxPooling2D, Flatten, Dropout, Dense\n",
    "from keras.callbacks import ModelCheckpoint\n",
    "\n",
    "\n",
    "model = load_model('model_weights_FP.h5')\n",
    "\n",
    "# Evaluate the model on the test set\n",
    "loss, accuracy = model.evaluate(FP_x_test_resized, y_test)\n",
    "print(\"Test Loss:\", loss)\n",
    "print(\"Test Accuracy:\", accuracy)"
   ]
  },
  {
   "cell_type": "markdown",
   "id": "66209071",
   "metadata": {},
   "source": [
    "### Rearrange Weights for our dense layer (Format in Python is not practical for hardware) :  currently model_weights.txt is already rearranged"
   ]
  },
  {
   "cell_type": "code",
   "execution_count": 13,
   "id": "9896a896",
   "metadata": {},
   "outputs": [
    {
     "name": "stdout",
     "output_type": "stream",
     "text": [
      "[-0.42765197  0.08138641  0.01048726 ... -0.08735301 -0.49302652\n",
      "  0.24226427]\n",
      "Model weights saved to model_weights.txt\n"
     ]
    }
   ],
   "source": [
    "import numpy as np\n",
    "text_file = np.loadtxt(\"model_weights_FP.txt\")\n",
    "# print(text_file[188:3428])\n",
    "\n",
    "array_b = np.zeros(3240)\n",
    "array_a = text_file[188:3428]\n",
    "print(array_a)\n",
    "\n",
    "for i in range(10):\n",
    "    for j in range(4):\n",
    "        for k in range(9*9):\n",
    "            array_b[i + k * 10 + (j * 9 * 9 * 10)] = array_a[(j * 10) + (k * 40) + i]\n",
    "\n",
    "array_final = np.zeros(3438)\n",
    "\n",
    "array_final[0:188] = text_file[0:188]\n",
    "array_final[188:3428] = array_b\n",
    "array_final[3428:3438] = text_file[3428:3438]\n",
    "\n",
    "\n",
    "with open('model_weights_FP_rearrange.txt', 'w') as file:\n",
    "    for layer_weights in array_final:\n",
    "            file.write(str(layer_weights) + '\\n')\n",
    "\n",
    "print(\"Model weights saved to model_weights.txt\")\n",
    "\n",
    "\n",
    "np.savetxt(\"model_weights_FP_rearrange.txt\", array_final, delimiter=',', fmt='%f')  \n"
   ]
  },
  {
   "cell_type": "markdown",
   "id": "671ee045",
   "metadata": {},
   "source": [
    "# Conv1"
   ]
  },
  {
   "cell_type": "code",
   "execution_count": 4,
   "id": "3016dfe8",
   "metadata": {},
   "outputs": [
    {
     "name": "stdout",
     "output_type": "stream",
     "text": [
      "\u001b[1m1/1\u001b[0m \u001b[32m━━━━━━━━━━━━━━━━━━━━\u001b[0m\u001b[37m\u001b[0m \u001b[1m0s\u001b[0m 33ms/step\n",
      "Output shape of the first convolutional layer: (1, 40, 40, 4)\n",
      "Convolutional layer output saved\n"
     ]
    },
    {
     "name": "stderr",
     "output_type": "stream",
     "text": [
      "c:\\Users\\Rishit Thakkar\\AppData\\Local\\Programs\\Python\\Python312\\Lib\\site-packages\\keras\\src\\layers\\convolutional\\base_conv.py:99: UserWarning: Do not pass an `input_shape`/`input_dim` argument to a layer. When using Sequential models, prefer using an `Input(shape)` object as the first layer in the model instead.\n",
      "  super().__init__(\n"
     ]
    }
   ],
   "source": [
    "# import numpy as np\n",
    "# from keras.models import Sequential\n",
    "# from keras.layers import Conv2D\n",
    "\n",
    "# # Load weights and biases from a text file\n",
    "# weights_and_biases = np.loadtxt(\"model_weights.txt\")\n",
    "\n",
    "# # Assume the weights shape as per the convolutional kernel and filters\n",
    "# weights_shape = (3, 3, 1, 4)  # Kernel size (3, 3), 4 filters\n",
    "# weights = weights_and_biases[0:36].reshape(weights_shape)\n",
    "# biases = weights_and_biases[36:40]\n",
    "\n",
    "# # Build the model\n",
    "# model = Sequential()\n",
    "# model.add(Conv2D(4, kernel_size=(3, 3), activation='relu', input_shape=(42, 42, 1)))\n",
    "# model.layers[0].set_weights([weights, biases])\n",
    "\n",
    "# # Load the pixel values from a text file\n",
    "# img_array = np.loadtxt('demo_image.txt')  \n",
    "\n",
    "# # Reshape the array to match the input shape of the model\n",
    "# img_array = img_array.reshape((1, 42, 42, 1))  # (batch_size, height, width, channels)\n",
    "\n",
    "# # Make predictions using the model\n",
    "# conv1_output = model.predict(img_array)\n",
    "\n",
    "# # Print output shape of the first convolutional layer\n",
    "# print(\"Output shape of the first convolutional layer:\", conv1_output.shape)\n",
    "\n",
    "# # Save the convolutional layer output\n",
    "# with open('Python_prog_out_conv.txt', 'w') as file:\n",
    "#     for c in range(conv1_output.shape[3]):\n",
    "#         file.write(\"Channel %d:\\n\" % (c + 1))\n",
    "#         for i in range(conv1_output.shape[1]):\n",
    "#             for j in range(conv1_output.shape[2]):\n",
    "#                 file.write(\"%0.2f\" % conv1_output[0, i, j, c])\n",
    "#                 if j != conv1_output.shape[2] - 1:\n",
    "#                     file.write(\", \")\n",
    "#             file.write(\"\\n\")\n",
    "#         file.write(\"\\n\")\n",
    "\n",
    "# print(\"Convolutional layer output saved\")\n"
   ]
  },
  {
   "cell_type": "markdown",
   "id": "d907c86f",
   "metadata": {},
   "source": [
    "# Max1"
   ]
  },
  {
   "cell_type": "code",
   "execution_count": 5,
   "id": "cfb07cef",
   "metadata": {},
   "outputs": [
    {
     "name": "stdout",
     "output_type": "stream",
     "text": [
      "\u001b[1m1/1\u001b[0m \u001b[32m━━━━━━━━━━━━━━━━━━━━\u001b[0m\u001b[37m\u001b[0m \u001b[1m0s\u001b[0m 40ms/step\n",
      "Output shape of the first Max Pool layer: (1, 20, 20, 4)\n",
      "Max 1 layer output saved\n"
     ]
    }
   ],
   "source": [
    "# # Load the weights and biases\n",
    "# weights_and_biases = np.loadtxt(\"model_weights.txt\")\n",
    "# weights_shape = (3, 3, 1, 4)  # Kernel size of (3, 3) and 4 filters\n",
    "# weights = weights_and_biases[0:36].reshape(weights_shape)  # Weights\n",
    "# biases = weights_and_biases[36:40]  # Biases\n",
    "\n",
    "# # Build the model\n",
    "# model = Sequential()\n",
    "# model.add(Conv2D(4, kernel_size=(3, 3), activation='relu', input_shape=(42, 42, 1)))\n",
    "# model.add(MaxPooling2D(pool_size=(2, 2)))\n",
    "# model.layers[0].set_weights([weights, biases])\n",
    "\n",
    "# # Load pixel values from a text file\n",
    "# img_array = np.loadtxt('demo_image.txt') \n",
    "# img_array = img_array.reshape((1, 42, 42, 1))  # Reshape for the model\n",
    "\n",
    "# # Predict using the model\n",
    "# output = model.predict(img_array)\n",
    "\n",
    "# # Output the shape of the result after Max Pooling layer\n",
    "# print(\"Output shape of the first Max Pool layer:\", output.shape)\n",
    "\n",
    "# # Save the output of the Max Pooling layer\n",
    "# with open('Python_prog_out_Max1.txt', 'w') as file:\n",
    "#     for c in range(output.shape[3]):\n",
    "#         file.write(\"Channel %d:\\n\" % (c + 1))\n",
    "#         for i in range(output.shape[1]):\n",
    "#             for j in range(output.shape[2]):\n",
    "#                 file.write(\"%0.2f\" % output[0, i, j, c])\n",
    "#                 if j != output.shape[2] - 1:\n",
    "#                     file.write(\", \")\n",
    "#             file.write(\"\\n\")\n",
    "#         file.write(\"\\n\")\n",
    "\n",
    "# print(\"Max 1 layer output saved\")"
   ]
  },
  {
   "cell_type": "markdown",
   "id": "bdefbaf1",
   "metadata": {},
   "source": [
    "# Conv 2"
   ]
  },
  {
   "cell_type": "code",
   "execution_count": 6,
   "id": "0fde0b66",
   "metadata": {},
   "outputs": [
    {
     "name": "stdout",
     "output_type": "stream",
     "text": [
      "\u001b[1m1/1\u001b[0m \u001b[32m━━━━━━━━━━━━━━━━━━━━\u001b[0m\u001b[37m\u001b[0m \u001b[1m0s\u001b[0m 39ms/step\n",
      "Output shape of the Second convolutional layer: (1, 18, 18, 4)\n",
      "Convolutional layer output saved\n"
     ]
    }
   ],
   "source": [
    "# weights_and_biases = np.loadtxt(\"model_weights.txt\")\n",
    "\n",
    "# weights_shape = (3, 3, 1, 4)  # Assuming kernel size of (3, 3) and 4 filters\n",
    "# weights2_shape = (3, 3, 4, 4)\n",
    "\n",
    "# weights = weights_and_biases[0:36].reshape(weights_shape)  # weights\n",
    "# biases = weights_and_biases[36:40]  # biases\n",
    "\n",
    "# weights2 = weights_and_biases[40:184].reshape(weights2_shape)\n",
    "# biases2 = weights_and_biases[184:188]\n",
    "\n",
    "# #Model Below\n",
    "# model = Sequential()\n",
    "# model.add(Conv2D(4, kernel_size=(3, 3), activation='relu', input_shape=(42, 42, 1)))\n",
    "# model.add(MaxPooling2D(pool_size=(2, 2)))\n",
    "# model.add(Conv2D(4, kernel_size=(3, 3), activation='relu'))\n",
    "\n",
    "# model.layers[0].set_weights([weights, biases])\n",
    "# model.layers[2].set_weights([weights2, biases2])\n",
    "\n",
    "\n",
    "\n",
    "# # Load the pixel values from a text file\n",
    "# img_array = np.loadtxt('demo_image.txt')  \n",
    "\n",
    "# # Reshape the array to match the input shape of the model\n",
    "# img_array = img_array.reshape((1, 42, 42, 1))  # (batch_size, height, width, channels)\n",
    "\n",
    "# conv1_output = model.predict(img_array)\n",
    "\n",
    "# print(\"Output shape of the Second convolutional layer:\", conv1_output.shape)\n",
    "\n",
    "# # Save the convolutional layer output\n",
    "# with open('Python_prog_out_conv2.txt', 'w') as file:\n",
    "#     for c in range(conv1_output.shape[3]):  \n",
    "#         file.write(\"Channel %d:\\n\" % (c + 1))\n",
    "\n",
    "#         for i in range(conv1_output.shape[1]):  \n",
    "#             for j in range(conv1_output.shape[2]):  \n",
    "#                 file.write(\"%0.2f\" % conv1_output[0, i, j, c])\n",
    "#                 if j != conv1_output.shape[2] - 1:\n",
    "#                     file.write(\", \")\n",
    "#             file.write(\"\\n\")\n",
    "\n",
    "#         file.write(\"\\n\")\n",
    "\n",
    "# print(\"Convolutional layer output saved\")"
   ]
  },
  {
   "cell_type": "markdown",
   "id": "8acb6353",
   "metadata": {},
   "source": [
    "# Max 2"
   ]
  },
  {
   "cell_type": "code",
   "execution_count": 7,
   "id": "9931121e",
   "metadata": {},
   "outputs": [
    {
     "name": "stdout",
     "output_type": "stream",
     "text": [
      "\u001b[1m1/1\u001b[0m \u001b[32m━━━━━━━━━━━━━━━━━━━━\u001b[0m\u001b[37m\u001b[0m \u001b[1m0s\u001b[0m 43ms/step\n",
      "Output shape of the 2nd MaxPool layer: (1, 9, 9, 4)\n",
      "Maxpool layer 2 output saved\n"
     ]
    }
   ],
   "source": [
    "# weights_and_biases = np.loadtxt(\"model_weights.txt\")\n",
    "\n",
    "# weights_shape = (3, 3, 1, 4)  # Assuming kernel size of (3, 3) and 4 filters\n",
    "# weights2_shape = (3, 3, 4, 4)\n",
    "\n",
    "# weights = weights_and_biases[0:36].reshape(weights_shape)  # weights\n",
    "# biases = weights_and_biases[36:40]  # biases\n",
    "\n",
    "# weights2 = weights_and_biases[40:184].reshape(weights2_shape)\n",
    "# biases2 = weights_and_biases[184:188]\n",
    "\n",
    "# #Model Below\n",
    "# model = Sequential()\n",
    "# model.add(Conv2D(4, kernel_size=(3, 3), activation='relu', input_shape=(42, 42, 1)))\n",
    "# model.add(MaxPooling2D(pool_size=(2, 2)))\n",
    "# model.add(Conv2D(4, kernel_size=(3, 3), activation='relu'))\n",
    "# model.add(MaxPooling2D(pool_size = (2, 2)))\n",
    "\n",
    "# model.layers[0].set_weights([weights, biases])\n",
    "# model.layers[2].set_weights([weights2, biases2])\n",
    "\n",
    "# img_array = np.loadtxt('demo_image.txt')\n",
    "\n",
    "# img_array = img_array.reshape((1, 42, 42, 1))  # Reshape to (batch_size, height, width, channels)\n",
    "\n",
    "# conv1_output = model.predict(img_array)\n",
    "\n",
    "# print(\"Output shape of the 2nd MaxPool layer:\", conv1_output.shape)\n",
    "\n",
    "# # Save the convolutional layer output\n",
    "# with open('Python_prog_out_max2.txt', 'w') as file:\n",
    "#     for c in range(conv1_output.shape[3]):  \n",
    "#         file.write(\"Channel %d:\\n\" % (c + 1))\n",
    "\n",
    "#         for i in range(conv1_output.shape[1]):  \n",
    "#             for j in range(conv1_output.shape[2]):  \n",
    "#                 file.write(\"%0.2f\" % conv1_output[0, i, j, c])\n",
    "#                 if j != conv1_output.shape[2] - 1:\n",
    "#                     file.write(\", \")\n",
    "#             file.write(\"\\n\")\n",
    "\n",
    "#         file.write(\"\\n\")\n",
    "\n",
    "# print(\"Maxpool layer 2 output saved\")"
   ]
  },
  {
   "cell_type": "markdown",
   "id": "980f6bb2",
   "metadata": {},
   "source": [
    "# Flatten"
   ]
  },
  {
   "cell_type": "code",
   "execution_count": 8,
   "id": "fc77e080",
   "metadata": {},
   "outputs": [
    {
     "name": "stdout",
     "output_type": "stream",
     "text": [
      "WARNING:tensorflow:5 out of the last 5 calls to <function TensorFlowTrainer.make_predict_function.<locals>.one_step_on_data_distributed at 0x00000185819A7E20> triggered tf.function retracing. Tracing is expensive and the excessive number of tracings could be due to (1) creating @tf.function repeatedly in a loop, (2) passing tensors with different shapes, (3) passing Python objects instead of tensors. For (1), please define your @tf.function outside of the loop. For (2), @tf.function has reduce_retracing=True option that can avoid unnecessary retracing. For (3), please refer to https://www.tensorflow.org/guide/function#controlling_retracing and https://www.tensorflow.org/api_docs/python/tf/function for  more details.\n"
     ]
    },
    {
     "name": "stderr",
     "output_type": "stream",
     "text": [
      "WARNING:tensorflow:5 out of the last 5 calls to <function TensorFlowTrainer.make_predict_function.<locals>.one_step_on_data_distributed at 0x00000185819A7E20> triggered tf.function retracing. Tracing is expensive and the excessive number of tracings could be due to (1) creating @tf.function repeatedly in a loop, (2) passing tensors with different shapes, (3) passing Python objects instead of tensors. For (1), please define your @tf.function outside of the loop. For (2), @tf.function has reduce_retracing=True option that can avoid unnecessary retracing. For (3), please refer to https://www.tensorflow.org/guide/function#controlling_retracing and https://www.tensorflow.org/api_docs/python/tf/function for  more details.\n"
     ]
    },
    {
     "name": "stdout",
     "output_type": "stream",
     "text": [
      "\u001b[1m1/1\u001b[0m \u001b[32m━━━━━━━━━━━━━━━━━━━━\u001b[0m\u001b[37m\u001b[0m \u001b[1m0s\u001b[0m 44ms/step\n",
      "Output shape of the Flatten layer: (1, 324)\n",
      "Flatten layer output saved\n"
     ]
    }
   ],
   "source": [
    "# weights_and_biases = np.loadtxt(\"model_weights.txt\")\n",
    "\n",
    "# weights_shape = (3, 3, 1, 4)  # Assuming kernel size of (3, 3) and 4 filters\n",
    "# weights2_shape = (3, 3, 4, 4)\n",
    "# weights3_shape = (324, 10)\n",
    "\n",
    "# weights = weights_and_biases[0:36].reshape(weights_shape)  # weights\n",
    "# biases = weights_and_biases[36:40]  # biases\n",
    "\n",
    "# weights2 = weights_and_biases[40:184].reshape(weights2_shape)\n",
    "# biases2 = weights_and_biases[184:188]\n",
    "\n",
    "\n",
    "\n",
    "\n",
    "# #Model Below\n",
    "# model = Sequential()\n",
    "# model.add(Conv2D(4, kernel_size=(3, 3), activation='relu', input_shape=(42, 42, 1)))\n",
    "# model.add(MaxPooling2D(pool_size=(2, 2)))\n",
    "# model.add(Conv2D(4, kernel_size=(3, 3), activation='relu'))\n",
    "# model.add(MaxPooling2D(pool_size = (2, 2)))\n",
    "# model.add(Flatten())\n",
    "\n",
    "\n",
    "# model.layers[0].set_weights([weights, biases])\n",
    "# model.layers[2].set_weights([weights2, biases2])\n",
    "\n",
    "\n",
    "# img_array = np.loadtxt('demo_image.txt')\n",
    "\n",
    "# img_array = img_array.reshape((1, 42, 42, 1))  # Reshape to (batch_size, height, width, channels)\n",
    "\n",
    "# conv1_output = model.predict(img_array)\n",
    "\n",
    "# # Save the convolutional layer output\n",
    "# print(\"Output shape of the Flatten layer:\", conv1_output.shape)\n",
    "\n",
    "# # Save the flatten layer output\n",
    "# with open('Python_prog_out_Flatten.txt', 'w') as file:\n",
    "#     for i in range(conv1_output.shape[1]):\n",
    "#         file.write(\"Neuron %d: %0.2f\\n\" % (i + 1, conv1_output[0, i]))\n",
    "\n",
    "# print(\"Flatten layer output saved\")\n"
   ]
  },
  {
   "cell_type": "markdown",
   "id": "59abb0ad",
   "metadata": {},
   "source": [
    "# Flatten and Dense"
   ]
  },
  {
   "cell_type": "code",
   "execution_count": 9,
   "id": "d2f8aaf0",
   "metadata": {},
   "outputs": [
    {
     "name": "stdout",
     "output_type": "stream",
     "text": [
      "WARNING:tensorflow:6 out of the last 6 calls to <function TensorFlowTrainer.make_predict_function.<locals>.one_step_on_data_distributed at 0x0000018582E34D60> triggered tf.function retracing. Tracing is expensive and the excessive number of tracings could be due to (1) creating @tf.function repeatedly in a loop, (2) passing tensors with different shapes, (3) passing Python objects instead of tensors. For (1), please define your @tf.function outside of the loop. For (2), @tf.function has reduce_retracing=True option that can avoid unnecessary retracing. For (3), please refer to https://www.tensorflow.org/guide/function#controlling_retracing and https://www.tensorflow.org/api_docs/python/tf/function for  more details.\n"
     ]
    },
    {
     "name": "stderr",
     "output_type": "stream",
     "text": [
      "WARNING:tensorflow:6 out of the last 6 calls to <function TensorFlowTrainer.make_predict_function.<locals>.one_step_on_data_distributed at 0x0000018582E34D60> triggered tf.function retracing. Tracing is expensive and the excessive number of tracings could be due to (1) creating @tf.function repeatedly in a loop, (2) passing tensors with different shapes, (3) passing Python objects instead of tensors. For (1), please define your @tf.function outside of the loop. For (2), @tf.function has reduce_retracing=True option that can avoid unnecessary retracing. For (3), please refer to https://www.tensorflow.org/guide/function#controlling_retracing and https://www.tensorflow.org/api_docs/python/tf/function for  more details.\n"
     ]
    },
    {
     "name": "stdout",
     "output_type": "stream",
     "text": [
      "\u001b[1m1/1\u001b[0m \u001b[32m━━━━━━━━━━━━━━━━━━━━\u001b[0m\u001b[37m\u001b[0m \u001b[1m0s\u001b[0m 49ms/step\n",
      "Output shape of the Dense layer: (1, 10)\n",
      "Dense layer output saved\n"
     ]
    }
   ],
   "source": [
    "# weights_and_biases = np.loadtxt(\"model_weights.txt\")\n",
    "\n",
    "# weights_shape = (3, 3, 1, 4)  # Assuming kernel size of (3, 3) and 4 filters\n",
    "# weights2_shape = (3, 3, 4, 4)\n",
    "# weights3_shape = (324, 10)\n",
    "\n",
    "# weights = weights_and_biases[0:36].reshape(weights_shape)  # weights\n",
    "# biases = weights_and_biases[36:40]  # biases\n",
    "\n",
    "# weights2 = weights_and_biases[40:184].reshape(weights2_shape)\n",
    "# biases2 = weights_and_biases[184:188]\n",
    "\n",
    "# weights3 = weights_and_biases[188:3428].reshape(weights3_shape)\n",
    "# biases3 = weights_and_biases[3428:3438]\n",
    "\n",
    "# #Model Below\n",
    "# model = Sequential()\n",
    "# model.add(Conv2D(4, kernel_size=(3, 3), activation='relu', input_shape=(42, 42, 1)))\n",
    "# model.add(MaxPooling2D(pool_size=(2, 2)))\n",
    "# model.add(Conv2D(4, kernel_size=(3, 3), activation='relu'))\n",
    "# model.add(MaxPooling2D(pool_size = (2, 2)))\n",
    "# model.add(Flatten())\n",
    "# model.add(Dense(10, activation='relu'))\n",
    "\n",
    "# model.layers[0].set_weights([weights, biases])\n",
    "# model.layers[2].set_weights([weights2, biases2])\n",
    "# model.layers[5].set_weights([weights3, biases3])\n",
    "\n",
    "\n",
    "# img_array = np.loadtxt('demo_image.txt')\n",
    "# img_array = img_array.reshape((1, 42, 42, 1))  # Reshape to (batch_size, height, width, channels)\n",
    "\n",
    "# conv1_output = model.predict(img_array)\n",
    "\n",
    "# # Save the convolutional layer output\n",
    "# print(\"Output shape of the Dense layer:\", conv1_output.shape)\n",
    "\n",
    "# # Save the dense layer output\n",
    "# with open('Python_prog_out_Dense.txt', 'w') as file:\n",
    "#     file.write(\"Channel 1: \\n\")\n",
    "#     for i in range(conv1_output.shape[1]):\n",
    "#         file.write(\"%0.2f\\n\" % (conv1_output[0, i]))\n",
    "\n",
    "# print(\"Dense layer output saved\")\n"
   ]
  }
 ],
 "metadata": {
  "kernelspec": {
   "display_name": "Python 3 (ipykernel)",
   "language": "python",
   "name": "python3"
  },
  "language_info": {
   "codemirror_mode": {
    "name": "ipython",
    "version": 3
   },
   "file_extension": ".py",
   "mimetype": "text/x-python",
   "name": "python",
   "nbconvert_exporter": "python",
   "pygments_lexer": "ipython3",
   "version": "3.12.2"
  }
 },
 "nbformat": 4,
 "nbformat_minor": 5
}
